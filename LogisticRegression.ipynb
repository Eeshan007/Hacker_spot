{
 "cells": [
  {
   "cell_type": "markdown",
   "metadata": {},
   "source": [
    "# Packages Import and Cleaning Coverting and Normalization of Data"
   ]
  },
  {
   "cell_type": "code",
   "execution_count": 1,
   "metadata": {},
   "outputs": [],
   "source": [
    "import numpy as np\n",
    "import pandas as pd\n",
    "import matplotlib.pyplot as plt"
   ]
  },
  {
   "cell_type": "code",
   "execution_count": 2,
   "metadata": {},
   "outputs": [],
   "source": [
    "project_df = pd.read_csv(\"sgemm_product_dataset\\sgemm_product.csv\")"
   ]
  },
  {
   "cell_type": "code",
   "execution_count": 3,
   "metadata": {},
   "outputs": [],
   "source": [
    "project_df['Run_Avg'] = project_df.iloc[:,14:18].mean(axis=1)"
   ]
  },
  {
   "cell_type": "code",
   "execution_count": 4,
   "metadata": {},
   "outputs": [],
   "source": [
    "project_df=project_df.drop(columns=['Run1 (ms)','Run2 (ms)','Run3 (ms)','Run4 (ms)'])"
   ]
  },
  {
   "cell_type": "code",
   "execution_count": 5,
   "metadata": {},
   "outputs": [],
   "source": [
    "project_df=project_df.dropna()"
   ]
  },
  {
   "cell_type": "code",
   "execution_count": 6,
   "metadata": {},
   "outputs": [],
   "source": [
    "project_df['Run_Avg'].median()\n",
    "project_df['Run_Avg'] = np.where(project_df['Run_Avg'] >= project_df['Run_Avg'].median(), 1, 0)\n",
    "#COnverted all the values above median to 1 and below median to zero"
   ]
  },
  {
   "cell_type": "code",
   "execution_count": 7,
   "metadata": {},
   "outputs": [],
   "source": [
    "normalized_df = (project_df.iloc[:,:14] - project_df.iloc[:,:14].mean())/project_df.iloc[:,:14].std()"
   ]
  },
  {
   "cell_type": "code",
   "execution_count": 8,
   "metadata": {},
   "outputs": [
    {
     "data": {
      "text/html": [
       "<div>\n",
       "<style scoped>\n",
       "    .dataframe tbody tr th:only-of-type {\n",
       "        vertical-align: middle;\n",
       "    }\n",
       "\n",
       "    .dataframe tbody tr th {\n",
       "        vertical-align: top;\n",
       "    }\n",
       "\n",
       "    .dataframe thead th {\n",
       "        text-align: right;\n",
       "    }\n",
       "</style>\n",
       "<table border=\"1\" class=\"dataframe\">\n",
       "  <thead>\n",
       "    <tr style=\"text-align: right;\">\n",
       "      <th></th>\n",
       "      <th>MWG</th>\n",
       "      <th>NWG</th>\n",
       "      <th>KWG</th>\n",
       "      <th>MDIMC</th>\n",
       "      <th>NDIMC</th>\n",
       "      <th>MDIMA</th>\n",
       "      <th>NDIMB</th>\n",
       "      <th>KWI</th>\n",
       "      <th>VWM</th>\n",
       "      <th>VWN</th>\n",
       "      <th>STRM</th>\n",
       "      <th>STRN</th>\n",
       "      <th>SA</th>\n",
       "      <th>SB</th>\n",
       "      <th>Run_Avg</th>\n",
       "    </tr>\n",
       "  </thead>\n",
       "  <tbody>\n",
       "    <tr>\n",
       "      <td>0</td>\n",
       "      <td>-1.516754</td>\n",
       "      <td>-1.516754</td>\n",
       "      <td>-1.210995</td>\n",
       "      <td>-0.753892</td>\n",
       "      <td>-0.753892</td>\n",
       "      <td>-0.998052</td>\n",
       "      <td>-0.998052</td>\n",
       "      <td>-0.999998</td>\n",
       "      <td>-0.741447</td>\n",
       "      <td>-0.741447</td>\n",
       "      <td>-0.999998</td>\n",
       "      <td>-0.999998</td>\n",
       "      <td>-0.999998</td>\n",
       "      <td>-0.999998</td>\n",
       "      <td>1</td>\n",
       "    </tr>\n",
       "    <tr>\n",
       "      <td>1</td>\n",
       "      <td>-1.516754</td>\n",
       "      <td>-1.516754</td>\n",
       "      <td>-1.210995</td>\n",
       "      <td>-0.753892</td>\n",
       "      <td>-0.753892</td>\n",
       "      <td>-0.998052</td>\n",
       "      <td>-0.998052</td>\n",
       "      <td>-0.999998</td>\n",
       "      <td>-0.741447</td>\n",
       "      <td>-0.741447</td>\n",
       "      <td>-0.999998</td>\n",
       "      <td>-0.999998</td>\n",
       "      <td>-0.999998</td>\n",
       "      <td>0.999998</td>\n",
       "      <td>1</td>\n",
       "    </tr>\n",
       "    <tr>\n",
       "      <td>2</td>\n",
       "      <td>-1.516754</td>\n",
       "      <td>-1.516754</td>\n",
       "      <td>-1.210995</td>\n",
       "      <td>-0.753892</td>\n",
       "      <td>-0.753892</td>\n",
       "      <td>-0.998052</td>\n",
       "      <td>-0.998052</td>\n",
       "      <td>-0.999998</td>\n",
       "      <td>-0.741447</td>\n",
       "      <td>-0.741447</td>\n",
       "      <td>-0.999998</td>\n",
       "      <td>-0.999998</td>\n",
       "      <td>0.999998</td>\n",
       "      <td>-0.999998</td>\n",
       "      <td>1</td>\n",
       "    </tr>\n",
       "    <tr>\n",
       "      <td>3</td>\n",
       "      <td>-1.516754</td>\n",
       "      <td>-1.516754</td>\n",
       "      <td>-1.210995</td>\n",
       "      <td>-0.753892</td>\n",
       "      <td>-0.753892</td>\n",
       "      <td>-0.998052</td>\n",
       "      <td>-0.998052</td>\n",
       "      <td>-0.999998</td>\n",
       "      <td>-0.741447</td>\n",
       "      <td>-0.741447</td>\n",
       "      <td>-0.999998</td>\n",
       "      <td>-0.999998</td>\n",
       "      <td>0.999998</td>\n",
       "      <td>0.999998</td>\n",
       "      <td>1</td>\n",
       "    </tr>\n",
       "    <tr>\n",
       "      <td>4</td>\n",
       "      <td>-1.516754</td>\n",
       "      <td>-1.516754</td>\n",
       "      <td>-1.210995</td>\n",
       "      <td>-0.753892</td>\n",
       "      <td>-0.753892</td>\n",
       "      <td>-0.998052</td>\n",
       "      <td>-0.998052</td>\n",
       "      <td>-0.999998</td>\n",
       "      <td>-0.741447</td>\n",
       "      <td>-0.741447</td>\n",
       "      <td>-0.999998</td>\n",
       "      <td>0.999998</td>\n",
       "      <td>-0.999998</td>\n",
       "      <td>-0.999998</td>\n",
       "      <td>1</td>\n",
       "    </tr>\n",
       "    <tr>\n",
       "      <td>...</td>\n",
       "      <td>...</td>\n",
       "      <td>...</td>\n",
       "      <td>...</td>\n",
       "      <td>...</td>\n",
       "      <td>...</td>\n",
       "      <td>...</td>\n",
       "      <td>...</td>\n",
       "      <td>...</td>\n",
       "      <td>...</td>\n",
       "      <td>...</td>\n",
       "      <td>...</td>\n",
       "      <td>...</td>\n",
       "      <td>...</td>\n",
       "      <td>...</td>\n",
       "      <td>...</td>\n",
       "    </tr>\n",
       "    <tr>\n",
       "      <td>241595</td>\n",
       "      <td>1.120450</td>\n",
       "      <td>1.120450</td>\n",
       "      <td>0.825764</td>\n",
       "      <td>2.294244</td>\n",
       "      <td>2.294244</td>\n",
       "      <td>1.558017</td>\n",
       "      <td>1.558017</td>\n",
       "      <td>0.999998</td>\n",
       "      <td>0.794054</td>\n",
       "      <td>0.794054</td>\n",
       "      <td>0.999998</td>\n",
       "      <td>-0.999998</td>\n",
       "      <td>0.999998</td>\n",
       "      <td>0.999998</td>\n",
       "      <td>0</td>\n",
       "    </tr>\n",
       "    <tr>\n",
       "      <td>241596</td>\n",
       "      <td>1.120450</td>\n",
       "      <td>1.120450</td>\n",
       "      <td>0.825764</td>\n",
       "      <td>2.294244</td>\n",
       "      <td>2.294244</td>\n",
       "      <td>1.558017</td>\n",
       "      <td>1.558017</td>\n",
       "      <td>0.999998</td>\n",
       "      <td>0.794054</td>\n",
       "      <td>0.794054</td>\n",
       "      <td>0.999998</td>\n",
       "      <td>0.999998</td>\n",
       "      <td>-0.999998</td>\n",
       "      <td>-0.999998</td>\n",
       "      <td>0</td>\n",
       "    </tr>\n",
       "    <tr>\n",
       "      <td>241597</td>\n",
       "      <td>1.120450</td>\n",
       "      <td>1.120450</td>\n",
       "      <td>0.825764</td>\n",
       "      <td>2.294244</td>\n",
       "      <td>2.294244</td>\n",
       "      <td>1.558017</td>\n",
       "      <td>1.558017</td>\n",
       "      <td>0.999998</td>\n",
       "      <td>0.794054</td>\n",
       "      <td>0.794054</td>\n",
       "      <td>0.999998</td>\n",
       "      <td>0.999998</td>\n",
       "      <td>-0.999998</td>\n",
       "      <td>0.999998</td>\n",
       "      <td>0</td>\n",
       "    </tr>\n",
       "    <tr>\n",
       "      <td>241598</td>\n",
       "      <td>1.120450</td>\n",
       "      <td>1.120450</td>\n",
       "      <td>0.825764</td>\n",
       "      <td>2.294244</td>\n",
       "      <td>2.294244</td>\n",
       "      <td>1.558017</td>\n",
       "      <td>1.558017</td>\n",
       "      <td>0.999998</td>\n",
       "      <td>0.794054</td>\n",
       "      <td>0.794054</td>\n",
       "      <td>0.999998</td>\n",
       "      <td>0.999998</td>\n",
       "      <td>0.999998</td>\n",
       "      <td>-0.999998</td>\n",
       "      <td>0</td>\n",
       "    </tr>\n",
       "    <tr>\n",
       "      <td>241599</td>\n",
       "      <td>1.120450</td>\n",
       "      <td>1.120450</td>\n",
       "      <td>0.825764</td>\n",
       "      <td>2.294244</td>\n",
       "      <td>2.294244</td>\n",
       "      <td>1.558017</td>\n",
       "      <td>1.558017</td>\n",
       "      <td>0.999998</td>\n",
       "      <td>0.794054</td>\n",
       "      <td>0.794054</td>\n",
       "      <td>0.999998</td>\n",
       "      <td>0.999998</td>\n",
       "      <td>0.999998</td>\n",
       "      <td>0.999998</td>\n",
       "      <td>0</td>\n",
       "    </tr>\n",
       "  </tbody>\n",
       "</table>\n",
       "<p>241600 rows × 15 columns</p>\n",
       "</div>"
      ],
      "text/plain": [
       "             MWG       NWG       KWG     MDIMC     NDIMC     MDIMA     NDIMB  \\\n",
       "0      -1.516754 -1.516754 -1.210995 -0.753892 -0.753892 -0.998052 -0.998052   \n",
       "1      -1.516754 -1.516754 -1.210995 -0.753892 -0.753892 -0.998052 -0.998052   \n",
       "2      -1.516754 -1.516754 -1.210995 -0.753892 -0.753892 -0.998052 -0.998052   \n",
       "3      -1.516754 -1.516754 -1.210995 -0.753892 -0.753892 -0.998052 -0.998052   \n",
       "4      -1.516754 -1.516754 -1.210995 -0.753892 -0.753892 -0.998052 -0.998052   \n",
       "...          ...       ...       ...       ...       ...       ...       ...   \n",
       "241595  1.120450  1.120450  0.825764  2.294244  2.294244  1.558017  1.558017   \n",
       "241596  1.120450  1.120450  0.825764  2.294244  2.294244  1.558017  1.558017   \n",
       "241597  1.120450  1.120450  0.825764  2.294244  2.294244  1.558017  1.558017   \n",
       "241598  1.120450  1.120450  0.825764  2.294244  2.294244  1.558017  1.558017   \n",
       "241599  1.120450  1.120450  0.825764  2.294244  2.294244  1.558017  1.558017   \n",
       "\n",
       "             KWI       VWM       VWN      STRM      STRN        SA        SB  \\\n",
       "0      -0.999998 -0.741447 -0.741447 -0.999998 -0.999998 -0.999998 -0.999998   \n",
       "1      -0.999998 -0.741447 -0.741447 -0.999998 -0.999998 -0.999998  0.999998   \n",
       "2      -0.999998 -0.741447 -0.741447 -0.999998 -0.999998  0.999998 -0.999998   \n",
       "3      -0.999998 -0.741447 -0.741447 -0.999998 -0.999998  0.999998  0.999998   \n",
       "4      -0.999998 -0.741447 -0.741447 -0.999998  0.999998 -0.999998 -0.999998   \n",
       "...          ...       ...       ...       ...       ...       ...       ...   \n",
       "241595  0.999998  0.794054  0.794054  0.999998 -0.999998  0.999998  0.999998   \n",
       "241596  0.999998  0.794054  0.794054  0.999998  0.999998 -0.999998 -0.999998   \n",
       "241597  0.999998  0.794054  0.794054  0.999998  0.999998 -0.999998  0.999998   \n",
       "241598  0.999998  0.794054  0.794054  0.999998  0.999998  0.999998 -0.999998   \n",
       "241599  0.999998  0.794054  0.794054  0.999998  0.999998  0.999998  0.999998   \n",
       "\n",
       "        Run_Avg  \n",
       "0             1  \n",
       "1             1  \n",
       "2             1  \n",
       "3             1  \n",
       "4             1  \n",
       "...         ...  \n",
       "241595        0  \n",
       "241596        0  \n",
       "241597        0  \n",
       "241598        0  \n",
       "241599        0  \n",
       "\n",
       "[241600 rows x 15 columns]"
      ]
     },
     "execution_count": 8,
     "metadata": {},
     "output_type": "execute_result"
    }
   ],
   "source": [
    "project_df.iloc[:,:14] = normalized_df\n",
    "project_df"
   ]
  },
  {
   "cell_type": "markdown",
   "metadata": {},
   "source": [
    "# Train-test data split, accuracy and Gradient descent calculation Functions"
   ]
  },
  {
   "cell_type": "code",
   "execution_count": 9,
   "metadata": {},
   "outputs": [],
   "source": [
    "def train_test(x):\n",
    "    #x is the dataset you want to split and use for regression\n",
    "    num_of_rows=int(len(x)*0.65)\n",
    "    shuffle_project_df = x.sample(frac=1)\n",
    "    training_set = shuffle_project_df[:num_of_rows]\n",
    "    test_set = shuffle_project_df[num_of_rows:]\n",
    "    return training_set,test_set"
   ]
  },
  {
   "cell_type": "code",
   "execution_count": 10,
   "metadata": {},
   "outputs": [],
   "source": [
    "def accuracy(x,y):\n",
    "    #x is predicted set\n",
    "    #y is train or test set\n",
    "    x2 = np.where(x>=0.4, 1, 0)\n",
    "    x3 = np.where(x2==y, 1, 0)\n",
    "    accuracy = np.sum(x3)/len(y)\n",
    "    return accuracy"
   ]
  },
  {
   "cell_type": "code",
   "execution_count": 11,
   "metadata": {},
   "outputs": [],
   "source": [
    "def gradient_descent(X,Y,beta,lr,threshold):\n",
    "    m=len(X)\n",
    "    \n",
    "    array_accuracy=[]\n",
    "    array_cost=[]\n",
    "    array_iteration=[]\n",
    "\n",
    "    dot_product = np.dot(X,beta)\n",
    "    Y_pred = 1/(1+np.exp(-dot_product))\n",
    "    count=0\n",
    "    \n",
    "    for i in range(1000):\n",
    "        count+=1\n",
    "        D_beta = (1/m)*lr*(X.T.dot(Y_pred - Y)) #derivative with respect to beta\n",
    "        \n",
    "        dot_product = np.dot(X,beta)\n",
    "        Y_pred = 1/(1+np.exp(-dot_product))\n",
    "        \n",
    "        beta = beta - D_beta\n",
    "        cost = -(1/m)*np.sum(Y*np.log(Y_pred)+(1-Y)*np.log(1-Y_pred))\n",
    "\n",
    "        array_cost.append(cost)\n",
    "        array_accuracy.append(accuracy(Y_pred,Y))\n",
    "        array_iteration.append(i)\n",
    "        \n",
    "        if D_beta.mean() < threshold:\n",
    "            count-=1\n",
    "              \n",
    "    return count, beta, array_cost, array_accuracy, array_iteration"
   ]
  },
  {
   "cell_type": "markdown",
   "metadata": {},
   "source": [
    "# Part 1: All 14 Features Selected with Multiple Learning Rates"
   ]
  },
  {
   "cell_type": "code",
   "execution_count": 12,
   "metadata": {},
   "outputs": [
    {
     "data": {
      "text/html": [
       "<div>\n",
       "<style scoped>\n",
       "    .dataframe tbody tr th:only-of-type {\n",
       "        vertical-align: middle;\n",
       "    }\n",
       "\n",
       "    .dataframe tbody tr th {\n",
       "        vertical-align: top;\n",
       "    }\n",
       "\n",
       "    .dataframe thead th {\n",
       "        text-align: right;\n",
       "    }\n",
       "</style>\n",
       "<table border=\"1\" class=\"dataframe\">\n",
       "  <thead>\n",
       "    <tr style=\"text-align: right;\">\n",
       "      <th></th>\n",
       "      <th>MWG</th>\n",
       "      <th>NWG</th>\n",
       "      <th>KWG</th>\n",
       "      <th>MDIMC</th>\n",
       "      <th>NDIMC</th>\n",
       "      <th>MDIMA</th>\n",
       "      <th>NDIMB</th>\n",
       "      <th>KWI</th>\n",
       "      <th>VWM</th>\n",
       "      <th>VWN</th>\n",
       "      <th>STRM</th>\n",
       "      <th>STRN</th>\n",
       "      <th>SA</th>\n",
       "      <th>SB</th>\n",
       "      <th>Run_Avg</th>\n",
       "    </tr>\n",
       "  </thead>\n",
       "  <tbody>\n",
       "    <tr>\n",
       "      <td>0</td>\n",
       "      <td>-1.516754</td>\n",
       "      <td>-1.516754</td>\n",
       "      <td>-1.210995</td>\n",
       "      <td>-0.753892</td>\n",
       "      <td>-0.753892</td>\n",
       "      <td>-0.998052</td>\n",
       "      <td>-0.998052</td>\n",
       "      <td>-0.999998</td>\n",
       "      <td>-0.741447</td>\n",
       "      <td>-0.741447</td>\n",
       "      <td>-0.999998</td>\n",
       "      <td>-0.999998</td>\n",
       "      <td>-0.999998</td>\n",
       "      <td>-0.999998</td>\n",
       "      <td>1</td>\n",
       "    </tr>\n",
       "    <tr>\n",
       "      <td>1</td>\n",
       "      <td>-1.516754</td>\n",
       "      <td>-1.516754</td>\n",
       "      <td>-1.210995</td>\n",
       "      <td>-0.753892</td>\n",
       "      <td>-0.753892</td>\n",
       "      <td>-0.998052</td>\n",
       "      <td>-0.998052</td>\n",
       "      <td>-0.999998</td>\n",
       "      <td>-0.741447</td>\n",
       "      <td>-0.741447</td>\n",
       "      <td>-0.999998</td>\n",
       "      <td>-0.999998</td>\n",
       "      <td>-0.999998</td>\n",
       "      <td>0.999998</td>\n",
       "      <td>1</td>\n",
       "    </tr>\n",
       "    <tr>\n",
       "      <td>2</td>\n",
       "      <td>-1.516754</td>\n",
       "      <td>-1.516754</td>\n",
       "      <td>-1.210995</td>\n",
       "      <td>-0.753892</td>\n",
       "      <td>-0.753892</td>\n",
       "      <td>-0.998052</td>\n",
       "      <td>-0.998052</td>\n",
       "      <td>-0.999998</td>\n",
       "      <td>-0.741447</td>\n",
       "      <td>-0.741447</td>\n",
       "      <td>-0.999998</td>\n",
       "      <td>-0.999998</td>\n",
       "      <td>0.999998</td>\n",
       "      <td>-0.999998</td>\n",
       "      <td>1</td>\n",
       "    </tr>\n",
       "    <tr>\n",
       "      <td>3</td>\n",
       "      <td>-1.516754</td>\n",
       "      <td>-1.516754</td>\n",
       "      <td>-1.210995</td>\n",
       "      <td>-0.753892</td>\n",
       "      <td>-0.753892</td>\n",
       "      <td>-0.998052</td>\n",
       "      <td>-0.998052</td>\n",
       "      <td>-0.999998</td>\n",
       "      <td>-0.741447</td>\n",
       "      <td>-0.741447</td>\n",
       "      <td>-0.999998</td>\n",
       "      <td>-0.999998</td>\n",
       "      <td>0.999998</td>\n",
       "      <td>0.999998</td>\n",
       "      <td>1</td>\n",
       "    </tr>\n",
       "    <tr>\n",
       "      <td>4</td>\n",
       "      <td>-1.516754</td>\n",
       "      <td>-1.516754</td>\n",
       "      <td>-1.210995</td>\n",
       "      <td>-0.753892</td>\n",
       "      <td>-0.753892</td>\n",
       "      <td>-0.998052</td>\n",
       "      <td>-0.998052</td>\n",
       "      <td>-0.999998</td>\n",
       "      <td>-0.741447</td>\n",
       "      <td>-0.741447</td>\n",
       "      <td>-0.999998</td>\n",
       "      <td>0.999998</td>\n",
       "      <td>-0.999998</td>\n",
       "      <td>-0.999998</td>\n",
       "      <td>1</td>\n",
       "    </tr>\n",
       "    <tr>\n",
       "      <td>...</td>\n",
       "      <td>...</td>\n",
       "      <td>...</td>\n",
       "      <td>...</td>\n",
       "      <td>...</td>\n",
       "      <td>...</td>\n",
       "      <td>...</td>\n",
       "      <td>...</td>\n",
       "      <td>...</td>\n",
       "      <td>...</td>\n",
       "      <td>...</td>\n",
       "      <td>...</td>\n",
       "      <td>...</td>\n",
       "      <td>...</td>\n",
       "      <td>...</td>\n",
       "      <td>...</td>\n",
       "    </tr>\n",
       "    <tr>\n",
       "      <td>241595</td>\n",
       "      <td>1.120450</td>\n",
       "      <td>1.120450</td>\n",
       "      <td>0.825764</td>\n",
       "      <td>2.294244</td>\n",
       "      <td>2.294244</td>\n",
       "      <td>1.558017</td>\n",
       "      <td>1.558017</td>\n",
       "      <td>0.999998</td>\n",
       "      <td>0.794054</td>\n",
       "      <td>0.794054</td>\n",
       "      <td>0.999998</td>\n",
       "      <td>-0.999998</td>\n",
       "      <td>0.999998</td>\n",
       "      <td>0.999998</td>\n",
       "      <td>0</td>\n",
       "    </tr>\n",
       "    <tr>\n",
       "      <td>241596</td>\n",
       "      <td>1.120450</td>\n",
       "      <td>1.120450</td>\n",
       "      <td>0.825764</td>\n",
       "      <td>2.294244</td>\n",
       "      <td>2.294244</td>\n",
       "      <td>1.558017</td>\n",
       "      <td>1.558017</td>\n",
       "      <td>0.999998</td>\n",
       "      <td>0.794054</td>\n",
       "      <td>0.794054</td>\n",
       "      <td>0.999998</td>\n",
       "      <td>0.999998</td>\n",
       "      <td>-0.999998</td>\n",
       "      <td>-0.999998</td>\n",
       "      <td>0</td>\n",
       "    </tr>\n",
       "    <tr>\n",
       "      <td>241597</td>\n",
       "      <td>1.120450</td>\n",
       "      <td>1.120450</td>\n",
       "      <td>0.825764</td>\n",
       "      <td>2.294244</td>\n",
       "      <td>2.294244</td>\n",
       "      <td>1.558017</td>\n",
       "      <td>1.558017</td>\n",
       "      <td>0.999998</td>\n",
       "      <td>0.794054</td>\n",
       "      <td>0.794054</td>\n",
       "      <td>0.999998</td>\n",
       "      <td>0.999998</td>\n",
       "      <td>-0.999998</td>\n",
       "      <td>0.999998</td>\n",
       "      <td>0</td>\n",
       "    </tr>\n",
       "    <tr>\n",
       "      <td>241598</td>\n",
       "      <td>1.120450</td>\n",
       "      <td>1.120450</td>\n",
       "      <td>0.825764</td>\n",
       "      <td>2.294244</td>\n",
       "      <td>2.294244</td>\n",
       "      <td>1.558017</td>\n",
       "      <td>1.558017</td>\n",
       "      <td>0.999998</td>\n",
       "      <td>0.794054</td>\n",
       "      <td>0.794054</td>\n",
       "      <td>0.999998</td>\n",
       "      <td>0.999998</td>\n",
       "      <td>0.999998</td>\n",
       "      <td>-0.999998</td>\n",
       "      <td>0</td>\n",
       "    </tr>\n",
       "    <tr>\n",
       "      <td>241599</td>\n",
       "      <td>1.120450</td>\n",
       "      <td>1.120450</td>\n",
       "      <td>0.825764</td>\n",
       "      <td>2.294244</td>\n",
       "      <td>2.294244</td>\n",
       "      <td>1.558017</td>\n",
       "      <td>1.558017</td>\n",
       "      <td>0.999998</td>\n",
       "      <td>0.794054</td>\n",
       "      <td>0.794054</td>\n",
       "      <td>0.999998</td>\n",
       "      <td>0.999998</td>\n",
       "      <td>0.999998</td>\n",
       "      <td>0.999998</td>\n",
       "      <td>0</td>\n",
       "    </tr>\n",
       "  </tbody>\n",
       "</table>\n",
       "<p>241600 rows × 15 columns</p>\n",
       "</div>"
      ],
      "text/plain": [
       "             MWG       NWG       KWG     MDIMC     NDIMC     MDIMA     NDIMB  \\\n",
       "0      -1.516754 -1.516754 -1.210995 -0.753892 -0.753892 -0.998052 -0.998052   \n",
       "1      -1.516754 -1.516754 -1.210995 -0.753892 -0.753892 -0.998052 -0.998052   \n",
       "2      -1.516754 -1.516754 -1.210995 -0.753892 -0.753892 -0.998052 -0.998052   \n",
       "3      -1.516754 -1.516754 -1.210995 -0.753892 -0.753892 -0.998052 -0.998052   \n",
       "4      -1.516754 -1.516754 -1.210995 -0.753892 -0.753892 -0.998052 -0.998052   \n",
       "...          ...       ...       ...       ...       ...       ...       ...   \n",
       "241595  1.120450  1.120450  0.825764  2.294244  2.294244  1.558017  1.558017   \n",
       "241596  1.120450  1.120450  0.825764  2.294244  2.294244  1.558017  1.558017   \n",
       "241597  1.120450  1.120450  0.825764  2.294244  2.294244  1.558017  1.558017   \n",
       "241598  1.120450  1.120450  0.825764  2.294244  2.294244  1.558017  1.558017   \n",
       "241599  1.120450  1.120450  0.825764  2.294244  2.294244  1.558017  1.558017   \n",
       "\n",
       "             KWI       VWM       VWN      STRM      STRN        SA        SB  \\\n",
       "0      -0.999998 -0.741447 -0.741447 -0.999998 -0.999998 -0.999998 -0.999998   \n",
       "1      -0.999998 -0.741447 -0.741447 -0.999998 -0.999998 -0.999998  0.999998   \n",
       "2      -0.999998 -0.741447 -0.741447 -0.999998 -0.999998  0.999998 -0.999998   \n",
       "3      -0.999998 -0.741447 -0.741447 -0.999998 -0.999998  0.999998  0.999998   \n",
       "4      -0.999998 -0.741447 -0.741447 -0.999998  0.999998 -0.999998 -0.999998   \n",
       "...          ...       ...       ...       ...       ...       ...       ...   \n",
       "241595  0.999998  0.794054  0.794054  0.999998 -0.999998  0.999998  0.999998   \n",
       "241596  0.999998  0.794054  0.794054  0.999998  0.999998 -0.999998 -0.999998   \n",
       "241597  0.999998  0.794054  0.794054  0.999998  0.999998 -0.999998  0.999998   \n",
       "241598  0.999998  0.794054  0.794054  0.999998  0.999998  0.999998 -0.999998   \n",
       "241599  0.999998  0.794054  0.794054  0.999998  0.999998  0.999998  0.999998   \n",
       "\n",
       "        Run_Avg  \n",
       "0             1  \n",
       "1             1  \n",
       "2             1  \n",
       "3             1  \n",
       "4             1  \n",
       "...         ...  \n",
       "241595        0  \n",
       "241596        0  \n",
       "241597        0  \n",
       "241598        0  \n",
       "241599        0  \n",
       "\n",
       "[241600 rows x 15 columns]"
      ]
     },
     "execution_count": 12,
     "metadata": {},
     "output_type": "execute_result"
    }
   ],
   "source": [
    "project_df"
   ]
  },
  {
   "cell_type": "code",
   "execution_count": 13,
   "metadata": {},
   "outputs": [],
   "source": [
    "training_set, test_set = train_test(project_df)"
   ]
  },
  {
   "cell_type": "code",
   "execution_count": 14,
   "metadata": {},
   "outputs": [],
   "source": [
    "X_train = training_set.iloc[:,:-1]\n",
    "X_test = test_set.iloc[:,:-1]\n",
    "Y_train = training_set['Run_Avg']\n",
    "Y_test = test_set['Run_Avg']"
   ]
  },
  {
   "cell_type": "markdown",
   "metadata": {},
   "source": [
    "## TRAIN DATA"
   ]
  },
  {
   "cell_type": "code",
   "execution_count": 15,
   "metadata": {},
   "outputs": [
    {
     "data": {
      "image/png": "[encoded data removed]",
      "text/plain": [
       "<Figure size 432x288 with 1 Axes>"
      ]
     },
     "metadata": {
      "needs_background": "light"
     },
     "output_type": "display_data"
    }
   ],
   "source": [
    "learning_rate = [1,0.1,0.01,0.02,0.03,0.003]\n",
    "for lr in learning_rate:\n",
    "    beta = np.c_[np.zeros(X_train.shape[1])]\n",
    "    beta.shape=np.squeeze(beta).shape\n",
    "    \n",
    "    count, beta, array_cost, array_accuracy, array_iteration = gradient_descent(X_train,Y_train,beta,lr,0.0000000000001)\n",
    "    plt.plot(array_iteration,array_accuracy,label=lr)\n",
    "    plt.xlabel('Iterations')\n",
    "    plt.ylabel('Accuracy')\n",
    "    plt.legend()"
   ]
  },
  {
   "cell_type": "code",
   "execution_count": 16,
   "metadata": {},
   "outputs": [
    {
     "data": {
      "image/png": "[encoded data removed]",
      "text/plain": [
       "<Figure size 432x288 with 1 Axes>"
      ]
     },
     "metadata": {
      "needs_background": "light"
     },
     "output_type": "display_data"
    }
   ],
   "source": [
    "learning_rate = [1,0.1,0.01,0.02,0.03,0.003]\n",
    "for lr in learning_rate:\n",
    "    beta = np.c_[np.zeros(X_train.shape[1])]\n",
    "    beta.shape=np.squeeze(beta).shape\n",
    "    \n",
    "    count, beta, array_cost, array_accuracy, array_iteration = gradient_descent(X_train,Y_train,beta,lr,0.0000000000001)\n",
    "    plt.plot(array_iteration,array_cost,label=lr)\n",
    "    plt.xlabel('Iterations')\n",
    "    plt.ylabel('Cost')\n",
    "    plt.legend()"
   ]
  },
  {
   "cell_type": "markdown",
   "metadata": {},
   "source": [
    "## Test Data"
   ]
  },
  {
   "cell_type": "code",
   "execution_count": 17,
   "metadata": {},
   "outputs": [
    {
     "data": {
      "image/png": "[encoded data removed]",
      "text/plain": [
       "<Figure size 432x288 with 1 Axes>"
      ]
     },
     "metadata": {
      "needs_background": "light"
     },
     "output_type": "display_data"
    }
   ],
   "source": [
    "learning_rate = [1,0.1,0.01,0.02,0.03,0.003]\n",
    "for lr in learning_rate:\n",
    "    count, beta, array_cost, array_accuracy, array_iteration = gradient_descent(X_test,Y_test,beta,lr,0.0000000000001)\n",
    "    plt.plot(array_iteration,array_accuracy,label=lr)\n",
    "    plt.xlabel('Iterations')\n",
    "    plt.ylabel('Accuracy')\n",
    "    plt.legend()"
   ]
  },
  {
   "cell_type": "code",
   "execution_count": 18,
   "metadata": {},
   "outputs": [
    {
     "data": {
      "image/png": "[encoded data removed]",
      "text/plain": [
       "<Figure size 432x288 with 1 Axes>"
      ]
     },
     "metadata": {
      "needs_background": "light"
     },
     "output_type": "display_data"
    }
   ],
   "source": [
    "learning_rate = [1,0.1,0.01,0.02,0.03,0.003]\n",
    "for lr in learning_rate:\n",
    "    count, beta, array_cost, array_accuracy, array_iteration = gradient_descent(X_test,Y_test,beta,lr,0.0000000000001)\n",
    "    plt.plot(array_iteration,array_cost,label=lr)\n",
    "    plt.xlabel('Iterations')\n",
    "    plt.ylabel('Cost')\n",
    "    plt.legend()"
   ]
  },
  {
   "cell_type": "markdown",
   "metadata": {},
   "source": [
    "# Part 2 All Features Selected with Multiple Threshold Values"
   ]
  },
  {
   "cell_type": "markdown",
   "metadata": {},
   "source": [
    "## TRAIN DATA"
   ]
  },
  {
   "cell_type": "code",
   "execution_count": 19,
   "metadata": {},
   "outputs": [
    {
     "name": "stdout",
     "output_type": "stream",
     "text": [
      "0\n",
      "887\n",
      "896\n",
      "897\n"
     ]
    },
    {
     "data": {
      "image/png": "[encoded data removed]",
      "text/plain": [
       "<Figure size 432x288 with 1 Axes>"
      ]
     },
     "metadata": {
      "needs_background": "light"
     },
     "output_type": "display_data"
    }
   ],
   "source": [
    "array_count=[]\n",
    "new_cost=[]\n",
    "new_accuracy=[]\n",
    "learning_rate = [0.03]\n",
    "threshold = [0.0001,0.00001,0.000001,0.0000001]\n",
    "for lr in learning_rate:\n",
    "    for th in threshold:\n",
    "        beta = np.c_[np.zeros(X_train.shape[1])]\n",
    "        beta.shape=np.squeeze(beta).shape\n",
    "        \n",
    "        count, beta, array_cost, array_accuracy, array_iteration = gradient_descent(X_train,Y_train,beta,lr,th)\n",
    "        array_count.append(count)\n",
    "        new_accuracy.append(array_accuracy[count+1])\n",
    "        new_cost.append(array_cost[count+1])\n",
    "        print(count)\n",
    "        plt.plot(array_iteration[:count+1],array_accuracy[:count+1],label=(array_accuracy[count+1],th))\n",
    "        plt.xlabel('Iterations')\n",
    "        plt.ylabel('Accuracy')\n",
    "        plt.legend()"
   ]
  },
  {
   "cell_type": "code",
   "execution_count": 20,
   "metadata": {},
   "outputs": [
    {
     "name": "stdout",
     "output_type": "stream",
     "text": [
      "No. of Iterations required to reach Convergence with threshold  0.0001  is:  0\n",
      "No. of Iterations required to reach Convergence with threshold  1e-05  is:  887\n",
      "No. of Iterations required to reach Convergence with threshold  1e-06  is:  896\n",
      "No. of Iterations required to reach Convergence with threshold  1e-07  is:  897\n"
     ]
    },
    {
     "data": {
      "image/png": "[encoded data removed]",
      "text/plain": [
       "<Figure size 432x288 with 1 Axes>"
      ]
     },
     "metadata": {
      "needs_background": "light"
     },
     "output_type": "display_data"
    }
   ],
   "source": [
    "array_count=[]\n",
    "new_accuracy=[]\n",
    "new_cost=[]\n",
    "learning_rate = [0.03]\n",
    "threshold = [0.0001,0.00001,0.000001,0.0000001]\n",
    "for lr in learning_rate:\n",
    "    for th in threshold:\n",
    "        beta = np.c_[np.zeros(X_train.shape[1])]\n",
    "        beta.shape=np.squeeze(beta).shape\n",
    "        \n",
    "        count, beta, array_cost, array_accuracy, array_iteration = gradient_descent(X_train,Y_train,beta,lr,th)\n",
    "        array_count.append(count)\n",
    "        new_accuracy.append(array_accuracy[count+1])\n",
    "        new_cost.append(array_cost[count+1])\n",
    "        print('No. of Iterations required to reach Convergence with threshold ',th,' is: ',count)\n",
    "        \n",
    "        plt.plot(array_iteration[:count+1],array_cost[:count+1],label=(array_cost[count+1],th))\n",
    "        plt.xlabel('Iterations')\n",
    "        plt.ylabel('Cost')\n",
    "        plt.legend()"
   ]
  },
  {
   "cell_type": "code",
   "execution_count": 21,
   "metadata": {},
   "outputs": [
    {
     "data": {
      "text/plain": [
       "Text(0, 0.5, 'Iterations')"
      ]
     },
     "execution_count": 21,
     "metadata": {},
     "output_type": "execute_result"
    },
    {
     "data": {
      "image/png": "[encoded data removed]",
      "text/plain": [
       "<Figure size 432x288 with 1 Axes>"
      ]
     },
     "metadata": {
      "needs_background": "light"
     },
     "output_type": "display_data"
    }
   ],
   "source": [
    "plt.plot(np.log10(threshold),array_count)\n",
    "plt.xlabel('Threshold in power of 10')\n",
    "plt.ylabel('Iterations')"
   ]
  },
  {
   "cell_type": "code",
   "execution_count": 22,
   "metadata": {
    "scrolled": true
   },
   "outputs": [
    {
     "data": {
      "text/plain": [
       "Text(0, 0.5, 'Accuracy')"
      ]
     },
     "execution_count": 22,
     "metadata": {},
     "output_type": "execute_result"
    },
    {
     "data": {
      "image/png": "[encoded data removed]",
      "text/plain": [
       "<Figure size 432x288 with 1 Axes>"
      ]
     },
     "metadata": {
      "needs_background": "light"
     },
     "output_type": "display_data"
    }
   ],
   "source": [
    "plt.plot(np.log10(threshold),new_accuracy)\n",
    "plt.xlabel('Threshold in power of 10')\n",
    "plt.ylabel('Accuracy')"
   ]
  },
  {
   "cell_type": "code",
   "execution_count": 23,
   "metadata": {},
   "outputs": [
    {
     "data": {
      "text/plain": [
       "Text(0, 0.5, 'Cost')"
      ]
     },
     "execution_count": 23,
     "metadata": {},
     "output_type": "execute_result"
    },
    {
     "data": {
      "image/png": "[encoded data removed]",
      "text/plain": [
       "<Figure size 432x288 with 1 Axes>"
      ]
     },
     "metadata": {
      "needs_background": "light"
     },
     "output_type": "display_data"
    }
   ],
   "source": [
    "plt.plot(np.log10(threshold),new_cost)\n",
    "plt.xlabel('Threshold in power of 10')\n",
    "plt.ylabel('Cost')"
   ]
  },
  {
   "cell_type": "markdown",
   "metadata": {},
   "source": [
    "## Test Data"
   ]
  },
  {
   "cell_type": "code",
   "execution_count": 24,
   "metadata": {},
   "outputs": [],
   "source": [
    "array_count=[]\n",
    "new_cost2=[]\n",
    "new_accuracy=[]\n",
    "learning_rate = [0.03]\n",
    "threshold = [0.0001,0.00001,0.000001,0.0000001]\n",
    "for lr in learning_rate:\n",
    "    for th in threshold:\n",
    "        count, beta, array_cost, array_accuracy, array_iteration = gradient_descent(X_test,Y_test,beta,lr,th)\n",
    "        array_count.append(count)\n",
    "        new_accuracy.append(array_accuracy[count+1])\n",
    "        new_cost2.append(array_cost[count+1])"
   ]
  },
  {
   "cell_type": "markdown",
   "metadata": {},
   "source": [
    "array_count=[]\n",
    "new_accuracy=[]\n",
    "new_cost=[]\n",
    "learning_rate = [0.03]\n",
    "threshold = [0.0001,0.00001,0.000001,0.0000001]\n",
    "for lr in learning_rate:\n",
    "    for th in threshold:\n",
    "        count, beta, array_cost, array_accuracy, array_iteration = gradient_descent(X_test,Y_test,beta,lr,th)\n",
    "        array_count.append(count)\n",
    "        new_accuracy.append(array_accuracy[count+1])\n",
    "        new_cost.append(array_cost[count+1])\n",
    "        print('No. of Iterations required to reach Convergence with threshold ',th,' is:', count)\n",
    "        \n",
    "        plt.plot(array_iteration[:count+1],array_cost[:count+1],label=(array_cost[count+1],th))\n",
    "        plt.xlabel('Iterations')\n",
    "        plt.ylabel('Cost')\n",
    "        plt.legend()"
   ]
  },
  {
   "cell_type": "code",
   "execution_count": 25,
   "metadata": {},
   "outputs": [
    {
     "data": {
      "text/plain": [
       "Text(0, 0.5, 'Accuracy')"
      ]
     },
     "execution_count": 25,
     "metadata": {},
     "output_type": "execute_result"
    },
    {
     "data": {
      "image/png": "[encoded data removed]",
      "text/plain": [
       "<Figure size 432x288 with 1 Axes>"
      ]
     },
     "metadata": {
      "needs_background": "light"
     },
     "output_type": "display_data"
    }
   ],
   "source": [
    "plt.plot(np.log10(threshold),new_accuracy)\n",
    "plt.xlabel('Threshold in power of 10')\n",
    "plt.ylabel('Accuracy')"
   ]
  },
  {
   "cell_type": "code",
   "execution_count": 26,
   "metadata": {},
   "outputs": [
    {
     "data": {
      "text/plain": [
       "<matplotlib.legend.Legend at 0x28ef2b9c488>"
      ]
     },
     "execution_count": 26,
     "metadata": {},
     "output_type": "execute_result"
    },
    {
     "data": {
      "image/png": "[encoded data removed]",
      "text/plain": [
       "<Figure size 432x288 with 1 Axes>"
      ]
     },
     "metadata": {
      "needs_background": "light"
     },
     "output_type": "display_data"
    }
   ],
   "source": [
    "plt.plot(np.log10(threshold),new_cost,label='train')\n",
    "plt.xlabel('Threshold in power of 10')\n",
    "plt.ylabel('Cost')\n",
    "plt.legend()\n",
    "plt.plot(np.log10(threshold),new_cost2,label='test')\n",
    "plt.xlabel('Threshold in power of 10')\n",
    "plt.ylabel('Cost')\n",
    "plt.legend()"
   ]
  },
  {
   "cell_type": "markdown",
   "metadata": {},
   "source": [
    "# Part 3 Random 8 Features Selected"
   ]
  },
  {
   "cell_type": "code",
   "execution_count": 27,
   "metadata": {},
   "outputs": [],
   "source": [
    "updated_df = project_df.iloc[:,:14].sample(8,axis=1)\n",
    "updated_df['Run_Avg'] = project_df['Run_Avg']"
   ]
  },
  {
   "cell_type": "code",
   "execution_count": 28,
   "metadata": {},
   "outputs": [],
   "source": [
    "training_set, test_set = train_test(updated_df)"
   ]
  },
  {
   "cell_type": "code",
   "execution_count": 29,
   "metadata": {},
   "outputs": [],
   "source": [
    "X_train = training_set.iloc[:,:-1]\n",
    "X_test = test_set.iloc[:,:-1]\n",
    "Y_train = training_set['Run_Avg']\n",
    "Y_test = test_set['Run_Avg']"
   ]
  },
  {
   "cell_type": "markdown",
   "metadata": {},
   "source": [
    "## TRAIN DATA"
   ]
  },
  {
   "cell_type": "code",
   "execution_count": 30,
   "metadata": {},
   "outputs": [
    {
     "data": {
      "image/png": "[encoded data removed]",
      "text/plain": [
       "<Figure size 432x288 with 1 Axes>"
      ]
     },
     "metadata": {
      "needs_background": "light"
     },
     "output_type": "display_data"
    }
   ],
   "source": [
    "learning_rate = [0.03]\n",
    "for lr in learning_rate:\n",
    "    beta = np.c_[np.zeros(X_train.shape[1])]\n",
    "    beta.shape=np.squeeze(beta).shape\n",
    "    \n",
    "    count, beta, array_cost, array_accuracy, array_iteration = gradient_descent(X_train,Y_train,beta,lr,0.0000000000001)\n",
    "    plt.plot(array_iteration,array_accuracy,label=lr)\n",
    "    plt.xlabel('Iterations')\n",
    "    plt.ylabel('Accuracy')\n",
    "    plt.legend()"
   ]
  },
  {
   "cell_type": "code",
   "execution_count": 31,
   "metadata": {},
   "outputs": [
    {
     "data": {
      "image/png": "[encoded data removed]",
      "text/plain": [
       "<Figure size 432x288 with 1 Axes>"
      ]
     },
     "metadata": {
      "needs_background": "light"
     },
     "output_type": "display_data"
    }
   ],
   "source": [
    "learning_rate = [0.03]\n",
    "for lr in learning_rate:\n",
    "    beta = np.c_[np.zeros(X_train.shape[1])]\n",
    "    beta.shape=np.squeeze(beta).shape\n",
    "    \n",
    "    count, beta, array_cost, array_accuracy, array_iteration = gradient_descent(X_train,Y_train,beta,lr,0.0000000000001)\n",
    "    plt.plot(array_iteration,array_cost,label=lr)\n",
    "    plt.xlabel('Iterations')\n",
    "    plt.ylabel('Cost')\n",
    "    plt.legend()"
   ]
  },
  {
   "cell_type": "code",
   "execution_count": 32,
   "metadata": {},
   "outputs": [
    {
     "data": {
      "text/html": [
       "<div>\n",
       "<style scoped>\n",
       "    .dataframe tbody tr th:only-of-type {\n",
       "        vertical-align: middle;\n",
       "    }\n",
       "\n",
       "    .dataframe tbody tr th {\n",
       "        vertical-align: top;\n",
       "    }\n",
       "\n",
       "    .dataframe thead th {\n",
       "        text-align: right;\n",
       "    }\n",
       "</style>\n",
       "<table border=\"1\" class=\"dataframe\">\n",
       "  <thead>\n",
       "    <tr style=\"text-align: right;\">\n",
       "      <th></th>\n",
       "      <th>NDIMB</th>\n",
       "      <th>MDIMA</th>\n",
       "      <th>MDIMC</th>\n",
       "      <th>KWG</th>\n",
       "      <th>STRM</th>\n",
       "      <th>SA</th>\n",
       "      <th>SB</th>\n",
       "      <th>MWG</th>\n",
       "      <th>Run_Avg</th>\n",
       "    </tr>\n",
       "  </thead>\n",
       "  <tbody>\n",
       "    <tr>\n",
       "      <td>0</td>\n",
       "      <td>-0.998052</td>\n",
       "      <td>-0.998052</td>\n",
       "      <td>-0.753892</td>\n",
       "      <td>-1.210995</td>\n",
       "      <td>-0.999998</td>\n",
       "      <td>-0.999998</td>\n",
       "      <td>-0.999998</td>\n",
       "      <td>-1.516754</td>\n",
       "      <td>1</td>\n",
       "    </tr>\n",
       "    <tr>\n",
       "      <td>1</td>\n",
       "      <td>-0.998052</td>\n",
       "      <td>-0.998052</td>\n",
       "      <td>-0.753892</td>\n",
       "      <td>-1.210995</td>\n",
       "      <td>-0.999998</td>\n",
       "      <td>-0.999998</td>\n",
       "      <td>0.999998</td>\n",
       "      <td>-1.516754</td>\n",
       "      <td>1</td>\n",
       "    </tr>\n",
       "    <tr>\n",
       "      <td>2</td>\n",
       "      <td>-0.998052</td>\n",
       "      <td>-0.998052</td>\n",
       "      <td>-0.753892</td>\n",
       "      <td>-1.210995</td>\n",
       "      <td>-0.999998</td>\n",
       "      <td>0.999998</td>\n",
       "      <td>-0.999998</td>\n",
       "      <td>-1.516754</td>\n",
       "      <td>1</td>\n",
       "    </tr>\n",
       "    <tr>\n",
       "      <td>3</td>\n",
       "      <td>-0.998052</td>\n",
       "      <td>-0.998052</td>\n",
       "      <td>-0.753892</td>\n",
       "      <td>-1.210995</td>\n",
       "      <td>-0.999998</td>\n",
       "      <td>0.999998</td>\n",
       "      <td>0.999998</td>\n",
       "      <td>-1.516754</td>\n",
       "      <td>1</td>\n",
       "    </tr>\n",
       "    <tr>\n",
       "      <td>4</td>\n",
       "      <td>-0.998052</td>\n",
       "      <td>-0.998052</td>\n",
       "      <td>-0.753892</td>\n",
       "      <td>-1.210995</td>\n",
       "      <td>-0.999998</td>\n",
       "      <td>-0.999998</td>\n",
       "      <td>-0.999998</td>\n",
       "      <td>-1.516754</td>\n",
       "      <td>1</td>\n",
       "    </tr>\n",
       "    <tr>\n",
       "      <td>...</td>\n",
       "      <td>...</td>\n",
       "      <td>...</td>\n",
       "      <td>...</td>\n",
       "      <td>...</td>\n",
       "      <td>...</td>\n",
       "      <td>...</td>\n",
       "      <td>...</td>\n",
       "      <td>...</td>\n",
       "      <td>...</td>\n",
       "    </tr>\n",
       "    <tr>\n",
       "      <td>241595</td>\n",
       "      <td>1.558017</td>\n",
       "      <td>1.558017</td>\n",
       "      <td>2.294244</td>\n",
       "      <td>0.825764</td>\n",
       "      <td>0.999998</td>\n",
       "      <td>0.999998</td>\n",
       "      <td>0.999998</td>\n",
       "      <td>1.120450</td>\n",
       "      <td>0</td>\n",
       "    </tr>\n",
       "    <tr>\n",
       "      <td>241596</td>\n",
       "      <td>1.558017</td>\n",
       "      <td>1.558017</td>\n",
       "      <td>2.294244</td>\n",
       "      <td>0.825764</td>\n",
       "      <td>0.999998</td>\n",
       "      <td>-0.999998</td>\n",
       "      <td>-0.999998</td>\n",
       "      <td>1.120450</td>\n",
       "      <td>0</td>\n",
       "    </tr>\n",
       "    <tr>\n",
       "      <td>241597</td>\n",
       "      <td>1.558017</td>\n",
       "      <td>1.558017</td>\n",
       "      <td>2.294244</td>\n",
       "      <td>0.825764</td>\n",
       "      <td>0.999998</td>\n",
       "      <td>-0.999998</td>\n",
       "      <td>0.999998</td>\n",
       "      <td>1.120450</td>\n",
       "      <td>0</td>\n",
       "    </tr>\n",
       "    <tr>\n",
       "      <td>241598</td>\n",
       "      <td>1.558017</td>\n",
       "      <td>1.558017</td>\n",
       "      <td>2.294244</td>\n",
       "      <td>0.825764</td>\n",
       "      <td>0.999998</td>\n",
       "      <td>0.999998</td>\n",
       "      <td>-0.999998</td>\n",
       "      <td>1.120450</td>\n",
       "      <td>0</td>\n",
       "    </tr>\n",
       "    <tr>\n",
       "      <td>241599</td>\n",
       "      <td>1.558017</td>\n",
       "      <td>1.558017</td>\n",
       "      <td>2.294244</td>\n",
       "      <td>0.825764</td>\n",
       "      <td>0.999998</td>\n",
       "      <td>0.999998</td>\n",
       "      <td>0.999998</td>\n",
       "      <td>1.120450</td>\n",
       "      <td>0</td>\n",
       "    </tr>\n",
       "  </tbody>\n",
       "</table>\n",
       "<p>241600 rows × 9 columns</p>\n",
       "</div>"
      ],
      "text/plain": [
       "           NDIMB     MDIMA     MDIMC       KWG      STRM        SA        SB  \\\n",
       "0      -0.998052 -0.998052 -0.753892 -1.210995 -0.999998 -0.999998 -0.999998   \n",
       "1      -0.998052 -0.998052 -0.753892 -1.210995 -0.999998 -0.999998  0.999998   \n",
       "2      -0.998052 -0.998052 -0.753892 -1.210995 -0.999998  0.999998 -0.999998   \n",
       "3      -0.998052 -0.998052 -0.753892 -1.210995 -0.999998  0.999998  0.999998   \n",
       "4      -0.998052 -0.998052 -0.753892 -1.210995 -0.999998 -0.999998 -0.999998   \n",
       "...          ...       ...       ...       ...       ...       ...       ...   \n",
       "241595  1.558017  1.558017  2.294244  0.825764  0.999998  0.999998  0.999998   \n",
       "241596  1.558017  1.558017  2.294244  0.825764  0.999998 -0.999998 -0.999998   \n",
       "241597  1.558017  1.558017  2.294244  0.825764  0.999998 -0.999998  0.999998   \n",
       "241598  1.558017  1.558017  2.294244  0.825764  0.999998  0.999998 -0.999998   \n",
       "241599  1.558017  1.558017  2.294244  0.825764  0.999998  0.999998  0.999998   \n",
       "\n",
       "             MWG  Run_Avg  \n",
       "0      -1.516754        1  \n",
       "1      -1.516754        1  \n",
       "2      -1.516754        1  \n",
       "3      -1.516754        1  \n",
       "4      -1.516754        1  \n",
       "...          ...      ...  \n",
       "241595  1.120450        0  \n",
       "241596  1.120450        0  \n",
       "241597  1.120450        0  \n",
       "241598  1.120450        0  \n",
       "241599  1.120450        0  \n",
       "\n",
       "[241600 rows x 9 columns]"
      ]
     },
     "execution_count": 32,
     "metadata": {},
     "output_type": "execute_result"
    }
   ],
   "source": [
    "updated_df"
   ]
  },
  {
   "cell_type": "markdown",
   "metadata": {},
   "source": [
    "## Test Data"
   ]
  },
  {
   "cell_type": "code",
   "execution_count": 33,
   "metadata": {},
   "outputs": [
    {
     "data": {
      "image/png": "[encoded data removed]",
      "text/plain": [
       "<Figure size 432x288 with 1 Axes>"
      ]
     },
     "metadata": {
      "needs_background": "light"
     },
     "output_type": "display_data"
    }
   ],
   "source": [
    "learning_rate = [0.03]\n",
    "for lr in learning_rate:\n",
    "    count, beta, array_cost, array_accuracy, array_iteration = gradient_descent(X_test,Y_test,beta,lr,0.0000000000001)\n",
    "    plt.plot(array_iteration,array_accuracy,label=lr)\n",
    "    plt.xlabel('Iterations')\n",
    "    plt.ylabel('Accuracy')\n",
    "    plt.legend()"
   ]
  },
  {
   "cell_type": "code",
   "execution_count": 34,
   "metadata": {},
   "outputs": [
    {
     "data": {
      "image/png": "[encoded data removed]",
      "text/plain": [
       "<Figure size 432x288 with 1 Axes>"
      ]
     },
     "metadata": {
      "needs_background": "light"
     },
     "output_type": "display_data"
    }
   ],
   "source": [
    "learning_rate = [0.03]\n",
    "for lr in learning_rate:\n",
    "    count, beta, array_cost, array_accuracy, array_iteration = gradient_descent(X_test,Y_test,beta,lr,0.0000000000001)\n",
    "    plt.plot(array_iteration,array_cost,label=lr)\n",
    "    plt.xlabel('Iterations')\n",
    "    plt.ylabel('Cost')\n",
    "    plt.legend()"
   ]
  },
  {
   "cell_type": "markdown",
   "metadata": {},
   "source": [
    "# Part 4 Handpicked 8 Features Selected"
   ]
  },
  {
   "cell_type": "code",
   "execution_count": 35,
   "metadata": {
    "scrolled": false
   },
   "outputs": [
    {
     "data": {
      "text/html": [
       "<div>\n",
       "<style scoped>\n",
       "    .dataframe tbody tr th:only-of-type {\n",
       "        vertical-align: middle;\n",
       "    }\n",
       "\n",
       "    .dataframe tbody tr th {\n",
       "        vertical-align: top;\n",
       "    }\n",
       "\n",
       "    .dataframe thead th {\n",
       "        text-align: right;\n",
       "    }\n",
       "</style>\n",
       "<table border=\"1\" class=\"dataframe\">\n",
       "  <thead>\n",
       "    <tr style=\"text-align: right;\">\n",
       "      <th></th>\n",
       "      <th>MWG</th>\n",
       "      <th>NWG</th>\n",
       "      <th>KWG</th>\n",
       "      <th>MDIMC</th>\n",
       "      <th>NDIMC</th>\n",
       "      <th>MDIMA</th>\n",
       "      <th>NDIMB</th>\n",
       "      <th>KWI</th>\n",
       "      <th>VWM</th>\n",
       "      <th>VWN</th>\n",
       "      <th>STRM</th>\n",
       "      <th>STRN</th>\n",
       "      <th>SA</th>\n",
       "      <th>SB</th>\n",
       "      <th>Run_Avg</th>\n",
       "    </tr>\n",
       "  </thead>\n",
       "  <tbody>\n",
       "    <tr>\n",
       "      <td>MWG</td>\n",
       "      <td>1.00000</td>\n",
       "      <td>0.00060</td>\n",
       "      <td>0.00930</td>\n",
       "      <td>0.10579</td>\n",
       "      <td>-0.00859</td>\n",
       "      <td>0.15877</td>\n",
       "      <td>0.01490</td>\n",
       "      <td>-0.00000</td>\n",
       "      <td>0.35376</td>\n",
       "      <td>-0.00084</td>\n",
       "      <td>0.00000</td>\n",
       "      <td>0.00000</td>\n",
       "      <td>0.00000</td>\n",
       "      <td>0.00000</td>\n",
       "      <td>0.41119</td>\n",
       "    </tr>\n",
       "    <tr>\n",
       "      <td>NWG</td>\n",
       "      <td>0.00060</td>\n",
       "      <td>1.00000</td>\n",
       "      <td>0.00930</td>\n",
       "      <td>-0.00859</td>\n",
       "      <td>0.10579</td>\n",
       "      <td>0.01490</td>\n",
       "      <td>0.15877</td>\n",
       "      <td>-0.00000</td>\n",
       "      <td>-0.00084</td>\n",
       "      <td>0.35376</td>\n",
       "      <td>0.00000</td>\n",
       "      <td>0.00000</td>\n",
       "      <td>0.00000</td>\n",
       "      <td>0.00000</td>\n",
       "      <td>0.23096</td>\n",
       "    </tr>\n",
       "    <tr>\n",
       "      <td>KWG</td>\n",
       "      <td>0.00930</td>\n",
       "      <td>0.00930</td>\n",
       "      <td>1.00000</td>\n",
       "      <td>0.14835</td>\n",
       "      <td>0.14835</td>\n",
       "      <td>-0.03456</td>\n",
       "      <td>-0.03456</td>\n",
       "      <td>-0.00000</td>\n",
       "      <td>-0.01199</td>\n",
       "      <td>-0.01199</td>\n",
       "      <td>-0.00000</td>\n",
       "      <td>0.00000</td>\n",
       "      <td>0.00000</td>\n",
       "      <td>0.00000</td>\n",
       "      <td>-0.02159</td>\n",
       "    </tr>\n",
       "    <tr>\n",
       "      <td>MDIMC</td>\n",
       "      <td>0.10579</td>\n",
       "      <td>-0.00859</td>\n",
       "      <td>0.14835</td>\n",
       "      <td>1.00000</td>\n",
       "      <td>-0.20956</td>\n",
       "      <td>0.19743</td>\n",
       "      <td>0.08461</td>\n",
       "      <td>-0.00000</td>\n",
       "      <td>-0.13391</td>\n",
       "      <td>0.01053</td>\n",
       "      <td>0.00000</td>\n",
       "      <td>0.00000</td>\n",
       "      <td>0.00000</td>\n",
       "      <td>0.00000</td>\n",
       "      <td>-0.18529</td>\n",
       "    </tr>\n",
       "    <tr>\n",
       "      <td>NDIMC</td>\n",
       "      <td>-0.00859</td>\n",
       "      <td>0.10579</td>\n",
       "      <td>0.14835</td>\n",
       "      <td>-0.20956</td>\n",
       "      <td>1.00000</td>\n",
       "      <td>0.08461</td>\n",
       "      <td>0.19743</td>\n",
       "      <td>0.00000</td>\n",
       "      <td>0.01053</td>\n",
       "      <td>-0.13391</td>\n",
       "      <td>0.00000</td>\n",
       "      <td>0.00000</td>\n",
       "      <td>0.00000</td>\n",
       "      <td>0.00000</td>\n",
       "      <td>-0.15049</td>\n",
       "    </tr>\n",
       "    <tr>\n",
       "      <td>MDIMA</td>\n",
       "      <td>0.15877</td>\n",
       "      <td>0.01490</td>\n",
       "      <td>-0.03456</td>\n",
       "      <td>0.19743</td>\n",
       "      <td>0.08461</td>\n",
       "      <td>1.00000</td>\n",
       "      <td>0.08810</td>\n",
       "      <td>0.00000</td>\n",
       "      <td>-0.20271</td>\n",
       "      <td>-0.01903</td>\n",
       "      <td>-0.00000</td>\n",
       "      <td>-0.00000</td>\n",
       "      <td>0.00000</td>\n",
       "      <td>0.00000</td>\n",
       "      <td>-0.01280</td>\n",
       "    </tr>\n",
       "    <tr>\n",
       "      <td>NDIMB</td>\n",
       "      <td>0.01490</td>\n",
       "      <td>0.15877</td>\n",
       "      <td>-0.03456</td>\n",
       "      <td>0.08461</td>\n",
       "      <td>0.19743</td>\n",
       "      <td>0.08810</td>\n",
       "      <td>1.00000</td>\n",
       "      <td>0.00000</td>\n",
       "      <td>-0.01903</td>\n",
       "      <td>-0.20271</td>\n",
       "      <td>0.00000</td>\n",
       "      <td>0.00000</td>\n",
       "      <td>0.00000</td>\n",
       "      <td>0.00000</td>\n",
       "      <td>-0.03661</td>\n",
       "    </tr>\n",
       "    <tr>\n",
       "      <td>KWI</td>\n",
       "      <td>-0.00000</td>\n",
       "      <td>-0.00000</td>\n",
       "      <td>-0.00000</td>\n",
       "      <td>-0.00000</td>\n",
       "      <td>0.00000</td>\n",
       "      <td>0.00000</td>\n",
       "      <td>0.00000</td>\n",
       "      <td>1.00000</td>\n",
       "      <td>-0.00000</td>\n",
       "      <td>-0.00000</td>\n",
       "      <td>-0.00000</td>\n",
       "      <td>-0.00000</td>\n",
       "      <td>0.00000</td>\n",
       "      <td>0.00000</td>\n",
       "      <td>-0.00519</td>\n",
       "    </tr>\n",
       "    <tr>\n",
       "      <td>VWM</td>\n",
       "      <td>0.35376</td>\n",
       "      <td>-0.00084</td>\n",
       "      <td>-0.01199</td>\n",
       "      <td>-0.13391</td>\n",
       "      <td>0.01053</td>\n",
       "      <td>-0.20271</td>\n",
       "      <td>-0.01903</td>\n",
       "      <td>-0.00000</td>\n",
       "      <td>1.00000</td>\n",
       "      <td>0.00116</td>\n",
       "      <td>0.00000</td>\n",
       "      <td>0.00000</td>\n",
       "      <td>0.00000</td>\n",
       "      <td>0.00000</td>\n",
       "      <td>0.17567</td>\n",
       "    </tr>\n",
       "    <tr>\n",
       "      <td>VWN</td>\n",
       "      <td>-0.00084</td>\n",
       "      <td>0.35376</td>\n",
       "      <td>-0.01199</td>\n",
       "      <td>0.01053</td>\n",
       "      <td>-0.13391</td>\n",
       "      <td>-0.01903</td>\n",
       "      <td>-0.20271</td>\n",
       "      <td>-0.00000</td>\n",
       "      <td>0.00116</td>\n",
       "      <td>1.00000</td>\n",
       "      <td>0.00000</td>\n",
       "      <td>0.00000</td>\n",
       "      <td>0.00000</td>\n",
       "      <td>0.00000</td>\n",
       "      <td>0.08437</td>\n",
       "    </tr>\n",
       "    <tr>\n",
       "      <td>STRM</td>\n",
       "      <td>0.00000</td>\n",
       "      <td>0.00000</td>\n",
       "      <td>-0.00000</td>\n",
       "      <td>0.00000</td>\n",
       "      <td>0.00000</td>\n",
       "      <td>-0.00000</td>\n",
       "      <td>0.00000</td>\n",
       "      <td>-0.00000</td>\n",
       "      <td>0.00000</td>\n",
       "      <td>0.00000</td>\n",
       "      <td>1.00000</td>\n",
       "      <td>-0.00000</td>\n",
       "      <td>0.00000</td>\n",
       "      <td>0.00000</td>\n",
       "      <td>-0.10168</td>\n",
       "    </tr>\n",
       "    <tr>\n",
       "      <td>STRN</td>\n",
       "      <td>0.00000</td>\n",
       "      <td>0.00000</td>\n",
       "      <td>0.00000</td>\n",
       "      <td>0.00000</td>\n",
       "      <td>0.00000</td>\n",
       "      <td>-0.00000</td>\n",
       "      <td>0.00000</td>\n",
       "      <td>-0.00000</td>\n",
       "      <td>0.00000</td>\n",
       "      <td>0.00000</td>\n",
       "      <td>-0.00000</td>\n",
       "      <td>1.00000</td>\n",
       "      <td>0.00000</td>\n",
       "      <td>0.00000</td>\n",
       "      <td>-0.00931</td>\n",
       "    </tr>\n",
       "    <tr>\n",
       "      <td>SA</td>\n",
       "      <td>0.00000</td>\n",
       "      <td>0.00000</td>\n",
       "      <td>0.00000</td>\n",
       "      <td>0.00000</td>\n",
       "      <td>0.00000</td>\n",
       "      <td>0.00000</td>\n",
       "      <td>0.00000</td>\n",
       "      <td>0.00000</td>\n",
       "      <td>0.00000</td>\n",
       "      <td>0.00000</td>\n",
       "      <td>0.00000</td>\n",
       "      <td>0.00000</td>\n",
       "      <td>1.00000</td>\n",
       "      <td>0.00000</td>\n",
       "      <td>-0.12731</td>\n",
       "    </tr>\n",
       "    <tr>\n",
       "      <td>SB</td>\n",
       "      <td>0.00000</td>\n",
       "      <td>0.00000</td>\n",
       "      <td>0.00000</td>\n",
       "      <td>0.00000</td>\n",
       "      <td>0.00000</td>\n",
       "      <td>0.00000</td>\n",
       "      <td>0.00000</td>\n",
       "      <td>0.00000</td>\n",
       "      <td>0.00000</td>\n",
       "      <td>0.00000</td>\n",
       "      <td>0.00000</td>\n",
       "      <td>0.00000</td>\n",
       "      <td>0.00000</td>\n",
       "      <td>1.00000</td>\n",
       "      <td>-0.02567</td>\n",
       "    </tr>\n",
       "    <tr>\n",
       "      <td>Run_Avg</td>\n",
       "      <td>0.41119</td>\n",
       "      <td>0.23096</td>\n",
       "      <td>-0.02159</td>\n",
       "      <td>-0.18529</td>\n",
       "      <td>-0.15049</td>\n",
       "      <td>-0.01280</td>\n",
       "      <td>-0.03661</td>\n",
       "      <td>-0.00519</td>\n",
       "      <td>0.17567</td>\n",
       "      <td>0.08437</td>\n",
       "      <td>-0.10168</td>\n",
       "      <td>-0.00931</td>\n",
       "      <td>-0.12731</td>\n",
       "      <td>-0.02567</td>\n",
       "      <td>1.00000</td>\n",
       "    </tr>\n",
       "  </tbody>\n",
       "</table>\n",
       "</div>"
      ],
      "text/plain": [
       "             MWG      NWG      KWG    MDIMC    NDIMC    MDIMA    NDIMB  \\\n",
       "MWG      1.00000  0.00060  0.00930  0.10579 -0.00859  0.15877  0.01490   \n",
       "NWG      0.00060  1.00000  0.00930 -0.00859  0.10579  0.01490  0.15877   \n",
       "KWG      0.00930  0.00930  1.00000  0.14835  0.14835 -0.03456 -0.03456   \n",
       "MDIMC    0.10579 -0.00859  0.14835  1.00000 -0.20956  0.19743  0.08461   \n",
       "NDIMC   -0.00859  0.10579  0.14835 -0.20956  1.00000  0.08461  0.19743   \n",
       "MDIMA    0.15877  0.01490 -0.03456  0.19743  0.08461  1.00000  0.08810   \n",
       "NDIMB    0.01490  0.15877 -0.03456  0.08461  0.19743  0.08810  1.00000   \n",
       "KWI     -0.00000 -0.00000 -0.00000 -0.00000  0.00000  0.00000  0.00000   \n",
       "VWM      0.35376 -0.00084 -0.01199 -0.13391  0.01053 -0.20271 -0.01903   \n",
       "VWN     -0.00084  0.35376 -0.01199  0.01053 -0.13391 -0.01903 -0.20271   \n",
       "STRM     0.00000  0.00000 -0.00000  0.00000  0.00000 -0.00000  0.00000   \n",
       "STRN     0.00000  0.00000  0.00000  0.00000  0.00000 -0.00000  0.00000   \n",
       "SA       0.00000  0.00000  0.00000  0.00000  0.00000  0.00000  0.00000   \n",
       "SB       0.00000  0.00000  0.00000  0.00000  0.00000  0.00000  0.00000   \n",
       "Run_Avg  0.41119  0.23096 -0.02159 -0.18529 -0.15049 -0.01280 -0.03661   \n",
       "\n",
       "             KWI      VWM      VWN     STRM     STRN       SA       SB  \\\n",
       "MWG     -0.00000  0.35376 -0.00084  0.00000  0.00000  0.00000  0.00000   \n",
       "NWG     -0.00000 -0.00084  0.35376  0.00000  0.00000  0.00000  0.00000   \n",
       "KWG     -0.00000 -0.01199 -0.01199 -0.00000  0.00000  0.00000  0.00000   \n",
       "MDIMC   -0.00000 -0.13391  0.01053  0.00000  0.00000  0.00000  0.00000   \n",
       "NDIMC    0.00000  0.01053 -0.13391  0.00000  0.00000  0.00000  0.00000   \n",
       "MDIMA    0.00000 -0.20271 -0.01903 -0.00000 -0.00000  0.00000  0.00000   \n",
       "NDIMB    0.00000 -0.01903 -0.20271  0.00000  0.00000  0.00000  0.00000   \n",
       "KWI      1.00000 -0.00000 -0.00000 -0.00000 -0.00000  0.00000  0.00000   \n",
       "VWM     -0.00000  1.00000  0.00116  0.00000  0.00000  0.00000  0.00000   \n",
       "VWN     -0.00000  0.00116  1.00000  0.00000  0.00000  0.00000  0.00000   \n",
       "STRM    -0.00000  0.00000  0.00000  1.00000 -0.00000  0.00000  0.00000   \n",
       "STRN    -0.00000  0.00000  0.00000 -0.00000  1.00000  0.00000  0.00000   \n",
       "SA       0.00000  0.00000  0.00000  0.00000  0.00000  1.00000  0.00000   \n",
       "SB       0.00000  0.00000  0.00000  0.00000  0.00000  0.00000  1.00000   \n",
       "Run_Avg -0.00519  0.17567  0.08437 -0.10168 -0.00931 -0.12731 -0.02567   \n",
       "\n",
       "         Run_Avg  \n",
       "MWG      0.41119  \n",
       "NWG      0.23096  \n",
       "KWG     -0.02159  \n",
       "MDIMC   -0.18529  \n",
       "NDIMC   -0.15049  \n",
       "MDIMA   -0.01280  \n",
       "NDIMB   -0.03661  \n",
       "KWI     -0.00519  \n",
       "VWM      0.17567  \n",
       "VWN      0.08437  \n",
       "STRM    -0.10168  \n",
       "STRN    -0.00931  \n",
       "SA      -0.12731  \n",
       "SB      -0.02567  \n",
       "Run_Avg  1.00000  "
      ]
     },
     "execution_count": 35,
     "metadata": {},
     "output_type": "execute_result"
    }
   ],
   "source": [
    "round(project_df.corr(),5)"
   ]
  },
  {
   "cell_type": "code",
   "execution_count": 36,
   "metadata": {},
   "outputs": [],
   "source": [
    "selected_df = project_df.drop(columns=['STRN','KWI','MDIMA','KWG','SB','NDIMB'])"
   ]
  },
  {
   "cell_type": "code",
   "execution_count": 37,
   "metadata": {},
   "outputs": [],
   "source": [
    "training_set, test_set = train_test(selected_df)"
   ]
  },
  {
   "cell_type": "code",
   "execution_count": 38,
   "metadata": {},
   "outputs": [],
   "source": [
    "X_train = training_set.iloc[:,:-1]\n",
    "X_test = test_set.iloc[:,:-1]\n",
    "Y_train = training_set['Run_Avg']\n",
    "Y_test = test_set['Run_Avg']"
   ]
  },
  {
   "cell_type": "markdown",
   "metadata": {},
   "source": [
    "## TRAIN DATA"
   ]
  },
  {
   "cell_type": "code",
   "execution_count": 39,
   "metadata": {},
   "outputs": [
    {
     "data": {
      "image/png": "[encoded data removed]",
      "text/plain": [
       "<Figure size 432x288 with 1 Axes>"
      ]
     },
     "metadata": {
      "needs_background": "light"
     },
     "output_type": "display_data"
    }
   ],
   "source": [
    "learning_rate = [0.03]\n",
    "for lr in learning_rate:\n",
    "    beta = np.c_[np.zeros(X_train.shape[1])]\n",
    "    beta.shape=np.squeeze(beta).shape\n",
    "    \n",
    "    count, beta, array_cost, array_accuracy, array_iteration = gradient_descent(X_train,Y_train,beta,lr,0.0000000000001)\n",
    "    plt.plot(array_iteration,array_accuracy,label=lr)\n",
    "    plt.xlabel('Iterations')\n",
    "    plt.ylabel('Accuracy')\n",
    "    plt.legend()"
   ]
  },
  {
   "cell_type": "code",
   "execution_count": 40,
   "metadata": {},
   "outputs": [
    {
     "data": {
      "image/png": "[encoded data removed]",
      "text/plain": [
       "<Figure size 432x288 with 1 Axes>"
      ]
     },
     "metadata": {
      "needs_background": "light"
     },
     "output_type": "display_data"
    }
   ],
   "source": [
    "learning_rate = [0.03]\n",
    "for lr in learning_rate:\n",
    "    beta = np.c_[np.zeros(X_train.shape[1])]\n",
    "    beta.shape=np.squeeze(beta).shape\n",
    "    \n",
    "    count, beta, array_cost, array_accuracy, array_iteration = gradient_descent(X_train,Y_train,beta,lr,0.0000000000001)\n",
    "    plt.plot(array_iteration,array_cost,label=lr)\n",
    "    plt.xlabel('Iterations')\n",
    "    plt.ylabel('Cost')\n",
    "    plt.legend()"
   ]
  },
  {
   "cell_type": "markdown",
   "metadata": {},
   "source": [
    "## Test Data"
   ]
  },
  {
   "cell_type": "code",
   "execution_count": 41,
   "metadata": {},
   "outputs": [
    {
     "data": {
      "image/png": "[encoded data removed]",
      "text/plain": [
       "<Figure size 432x288 with 1 Axes>"
      ]
     },
     "metadata": {
      "needs_background": "light"
     },
     "output_type": "display_data"
    }
   ],
   "source": [
    "learning_rate = [0.03]\n",
    "for lr in learning_rate:\n",
    "    count, beta, array_cost, array_accuracy, array_iteration = gradient_descent(X_test,Y_test,beta,lr,0.0000000000001)\n",
    "    plt.plot(array_iteration,array_accuracy,label=lr)\n",
    "    plt.xlabel('Iterations')\n",
    "    plt.ylabel('Accuracy')\n",
    "    plt.legend()"
   ]
  },
  {
   "cell_type": "code",
   "execution_count": 42,
   "metadata": {},
   "outputs": [
    {
     "data": {
      "image/png": "[encoded data removed]",
      "text/plain": [
       "<Figure size 432x288 with 1 Axes>"
      ]
     },
     "metadata": {
      "needs_background": "light"
     },
     "output_type": "display_data"
    }
   ],
   "source": [
    "learning_rate = [0.03]\n",
    "for lr in learning_rate:\n",
    "    count, beta, array_cost, array_accuracy, array_iteration = gradient_descent(X_test,Y_test,beta,lr,0.0000000000001)\n",
    "    \n",
    "    plt.plot(array_iteration,array_cost,label=lr)\n",
    "    plt.xlabel('Iterations')\n",
    "    plt.ylabel('Cost')\n",
    "    plt.legend()"
   ]
  }
 ],
 "metadata": {
  "kernelspec": {
   "display_name": "Python 3",
   "language": "python",
   "name": "python3"
  },
  "language_info": {
   "codemirror_mode": {
    "name": "ipython",
    "version": 3
   },
   "file_extension": ".py",
   "mimetype": "text/x-python",
   "name": "python",
   "nbconvert_exporter": "python",
   "pygments_lexer": "ipython3",
   "version": "3.7.4"
  }
 },
 "nbformat": 4,
 "nbformat_minor": 2
}
